{
 "cells": [
  {
   "cell_type": "code",
   "execution_count": 1,
   "id": "d59e37eb-4c01-402e-8091-d7bf86f64542",
   "metadata": {},
   "outputs": [
    {
     "name": "stderr",
     "output_type": "stream",
     "text": [
      "\n",
      "KeyboardInterrupt\n",
      "\n"
     ]
    }
   ],
   "source": [
    "from broadcaster_nets_2_3 import *\n",
    "\n",
    "from torch_geometric.datasets import Planetoid\n",
    "from typing import Optional, Tuple\n",
    "\n",
    "import torch\n",
    "from torch import Tensor\n",
    "from torch.nn import Parameter\n",
    "from torch_scatter import scatter_add\n",
    "from torch_sparse import SparseTensor, fill_diag, matmul, mul\n",
    "from torch_sparse import sum as sparsesum\n",
    "\n",
    "from torch_geometric.nn.conv import MessagePassing\n",
    "from torch_geometric.nn.dense.linear import Linear\n",
    "from torch_geometric.nn.inits import zeros\n",
    "from torch_geometric.typing import Adj, OptTensor, PairTensor\n",
    "from torch_geometric.utils import add_remaining_self_loops, to_undirected\n",
    "from torch_geometric.utils.num_nodes import maybe_num_nodes\n",
    "\n",
    "from torch_geometric.loader import ClusterData\n",
    "import numpy as np\n",
    "\n",
    "import torch\n",
    "import torch.nn.functional as F\n",
    "from torch_geometric.nn import GCNConv\n",
    "\n",
    "import torch.nn as N\n",
    "\n",
    "import itertools\n",
    "\n",
    "import csv\n",
    "from time import perf_counter\n",
    "\n",
    "\n",
    "from layer2Test import netTest2layer\n",
    "from netsGenerator import *\n",
    "from time import perf_counter\n",
    "import sys\n",
    "import copy\n",
    "\n",
    "import faiss\n",
    "import faiss.contrib.torch_utils\n",
    "\n",
    "\n",
    "import time\n",
    "import torch\n",
    "from matplotlib import pyplot as plt\n",
    "\n",
    "import os\n",
    "os.environ['CUDA_PATH'] = '/modules/apps/cuda/11.6.0' \n",
    "import pykeops\n",
    "from pykeops.torch import LazyTensor\n",
    "pykeops.clean_pykeops() \n",
    "pykeops.test_torch_bindings()\n",
    "\n",
    "from guppy import hpy\n"
   ]
  },
  {
   "cell_type": "code",
   "execution_count": null,
   "id": "70592a4c-6d32-4c67-baf1-b982eb054ab4",
   "metadata": {},
   "outputs": [],
   "source": [
    "!python testing2layer.py br2_$SLURM_JOB_ID Cora 1 2 GCN 3 1 .01 .0005\n"
   ]
  },
  {
   "cell_type": "code",
   "execution_count": null,
   "id": "9cf88de6-dfd0-406c-a9a0-0a49c9b6bc30",
   "metadata": {},
   "outputs": [],
   "source": [
    "# import torch\n",
    "\n",
    "# from torch_geometric.datasets import Planetoid\n",
    "# dataset = Planetoid(root='/tmp/Cora', name='Cora')\n",
    "# device = torch.device('cuda' if torch.cuda.is_available() else 'cpu')\n",
    "# data = dataset[0].to(device)\n"
   ]
  },
  {
   "cell_type": "code",
   "execution_count": null,
   "id": "d4617ac4-ce6d-4db5-a687-253666dd2272",
   "metadata": {},
   "outputs": [],
   "source": [
    "from collections import Counter\n",
    "import linecache\n",
    "import os\n",
    "import tracemalloc\n",
    "\n",
    "def display_top(snapshot, key_type='lineno', limit=12):\n",
    "    snapshot = snapshot.filter_traces((\n",
    "        tracemalloc.Filter(False, \"<frozen importlib._bootstrap>\"),\n",
    "        tracemalloc.Filter(False, \"<unknown>\"),\n",
    "    ))\n",
    "    top_stats = snapshot.statistics(key_type)\n",
    "\n",
    "    print(\"Top %s lines\" % limit)\n",
    "    for index, stat in enumerate(top_stats[:limit], 1):\n",
    "        frame = stat.traceback[0]\n",
    "        # replace \"/path/to/module/file.py\" with \"module/file.py\"\n",
    "        filename = os.sep.join(frame.filename.split(os.sep)[-2:])\n",
    "        print(\"#%s: %s:%s: %.1f KiB\"\n",
    "              % (index, filename, frame.lineno, stat.size / 1024))\n",
    "        line = linecache.getline(frame.filename, frame.lineno).strip()\n",
    "        if line:\n",
    "            print('    %s' % line)\n",
    "\n",
    "    other = top_stats[limit:]\n",
    "    if other:\n",
    "        size = sum(stat.size for stat in other)\n",
    "        print(\"%s other: %.1f KiB\" % (len(other), size / 1024))\n",
    "    total = sum(stat.size for stat in top_stats)\n",
    "    print(\"Total allocated size: %.1f KiB\" % (total / 1024))\n",
    "# tracemalloc.start()\n",
    "\n",
    "# counts = Counter()\n",
    "# fname = '/usr/share/dict/american-english'\n",
    "# with open(fname) as words:\n",
    "#     words = list(words)\n",
    "#     for word in words:\n",
    "#         prefix = word[:3]\n",
    "#         counts[prefix] += 1\n",
    "# print('Top prefixes:', counts.most_common(10))\n",
    "\n",
    "# snapshot = tracemalloc.take_snapshot()\n",
    "# display_top(snapshot)\n"
   ]
  },
  {
   "cell_type": "code",
   "execution_count": null,
   "id": "668b42fa-0462-4aee-aa67-098e8487c12a",
   "metadata": {},
   "outputs": [],
   "source": [
    "tracemalloc.start()\n",
    "snapshot = tracemalloc.take_snapshot()\n",
    "display_top(snapshot)"
   ]
  },
  {
   "cell_type": "code",
   "execution_count": null,
   "id": "a8de087c-c79a-4711-aed4-9eb6d19caa27",
   "metadata": {
    "tags": []
   },
   "outputs": [],
   "source": [
    "!python testing2layer.py br2_$SLURM_JOB_ID Cora 1 2 GCN 3 1 .01 .0005\n",
    "snapshot = tracemalloc.take_snapshot()\n",
    "display_top(snapshot)\n",
    "h = hpy()\n",
    "print(h.heap())"
   ]
  },
  {
   "cell_type": "code",
   "execution_count": null,
   "id": "b2f9ca72-6564-4a78-885f-0b1436fefc95",
   "metadata": {},
   "outputs": [],
   "source": [
    "snapshot = tracemalloc.take_snapshot()\n",
    "display_top(snapshot)\n",
    "h = hpy()\n",
    "print(h.heap())"
   ]
  },
  {
   "cell_type": "code",
   "execution_count": null,
   "id": "d03b90d7-d767-4c33-994f-5516caa7b45d",
   "metadata": {},
   "outputs": [],
   "source": [
    "!python testing2layer.py br2_$SLURM_JOB_ID Cora 5 2 GCN 3 1 .01 .0005\n",
    "snapshot = tracemalloc.take_snapshot()\n",
    "display_top(snapshot)\n",
    "h = hpy()\n",
    "print(h.heap())"
   ]
  },
  {
   "cell_type": "code",
   "execution_count": null,
   "id": "c8a4d0a4-7367-471b-8018-6188ffea1b8a",
   "metadata": {},
   "outputs": [],
   "source": [
    "for x in range(10):\n",
    "    !python testing2layer.py br2_$SLURM_JOB_ID Cora 1 2 GCN 3 1 .01 .0005\n",
    "    snapshot = tracemalloc.take_snapshot()\n",
    "    display_top(snapshot)\n",
    "    h = hpy()\n",
    "    print(h.heap())\n",
    "snapshot = tracemalloc.take_snapshot()\n",
    "display_top(snapshot)\n",
    "h = hpy()\n",
    "print(h.heap())"
   ]
  },
  {
   "cell_type": "code",
   "execution_count": null,
   "id": "9d5fab0b-b617-408c-b2a1-4e289cf151f4",
   "metadata": {},
   "outputs": [],
   "source": [
    "snapshot = tracemalloc.take_snapshot()\n",
    "display_top(snapshot)\n",
    "h = hpy()\n",
    "print(h.heap())"
   ]
  },
  {
   "cell_type": "code",
   "execution_count": null,
   "id": "15a2c74b-1991-48eb-8827-0749dee9a3e4",
   "metadata": {
    "tags": []
   },
   "outputs": [],
   "source": [
    "for x in range(10):\n",
    "    !python testing2layer.py br2_$SLURM_JOB_ID Cora 1 2 GCN 3 1 .01 .0005\n",
    "    snapshot = tracemalloc.take_snapshot()\n",
    "    display_top(snapshot)\n",
    "    h = hpy()\n",
    "    print(h.heap())\n",
    "snapshot = tracemalloc.take_snapshot()\n",
    "display_top(snapshot)\n",
    "h = hpy()\n",
    "print(h.heap())"
   ]
  },
  {
   "cell_type": "code",
   "execution_count": null,
   "id": "19bf905a-af2d-4701-900f-fc0879c5cc74",
   "metadata": {
    "tags": []
   },
   "outputs": [],
   "source": [
    "snapshot = tracemalloc.take_snapshot()\n",
    "display_top(snapshot)\n",
    "h = hpy()\n",
    "print(h.heap())"
   ]
  },
  {
   "cell_type": "code",
   "execution_count": null,
   "id": "c1a4fc5a-31ab-4c0c-a2c4-f69653f81726",
   "metadata": {
    "tags": []
   },
   "outputs": [],
   "source": [
    "for x in range(5):\n",
    "    !python testing2layer.py br2_$SLURM_JOB_ID Cora 3 2 GCN 3 1 .01 .0005\n",
    "    snapshot = tracemalloc.take_snapshot()\n",
    "    display_top(snapshot)\n",
    "    h = hpy()\n",
    "    print(h.heap())\n",
    "snapshot = tracemalloc.take_snapshot()\n",
    "display_top(snapshot)\n",
    "h = hpy()\n",
    "print(h.heap())"
   ]
  },
  {
   "cell_type": "code",
   "execution_count": null,
   "id": "73fe8395-b4ab-41a0-af5f-211afea49e5a",
   "metadata": {
    "tags": []
   },
   "outputs": [],
   "source": [
    "snapshot = tracemalloc.take_snapshot()\n",
    "display_top(snapshot)\n",
    "h = hpy()\n",
    "print(h.heap())"
   ]
  },
  {
   "cell_type": "code",
   "execution_count": null,
   "id": "050e46e1-ef0f-4994-b3cb-4349e8cab453",
   "metadata": {
    "tags": []
   },
   "outputs": [],
   "source": [
    "for x in range(40):\n",
    "    !python testing2layer.py br2_$SLURM_JOB_ID Cora 1 2 GCN 3 1 .01 .0005\n",
    "    snapshot = tracemalloc.take_snapshot()\n",
    "    display_top(snapshot)\n",
    "    h = hpy()\n",
    "    print(h.heap())\n",
    "snapshot = tracemalloc.take_snapshot()\n",
    "display_top(snapshot)\n",
    "h = hpy()\n",
    "print(h.heap())"
   ]
  },
  {
   "cell_type": "code",
   "execution_count": null,
   "id": "0211c745-1677-4c1e-a70f-5144dfcc2eb8",
   "metadata": {
    "tags": []
   },
   "outputs": [],
   "source": [
    "snapshot = tracemalloc.take_snapshot()\n",
    "display_top(snapshot)\n",
    "h = hpy()\n",
    "print(h.heap())"
   ]
  }
 ],
 "metadata": {
  "kernelspec": {
   "display_name": "Python (.conda-broadcaster38)",
   "language": "python",
   "name": "conda-env-.conda-broadcaster38-py"
  },
  "language_info": {
   "codemirror_mode": {
    "name": "ipython",
    "version": 3
   },
   "file_extension": ".py",
   "mimetype": "text/x-python",
   "name": "python",
   "nbconvert_exporter": "python",
   "pygments_lexer": "ipython3",
   "version": "3.8.13"
  }
 },
 "nbformat": 4,
 "nbformat_minor": 5
}
